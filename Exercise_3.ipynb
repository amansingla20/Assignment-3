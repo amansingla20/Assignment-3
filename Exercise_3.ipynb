{
  "nbformat": 4,
  "nbformat_minor": 0,
  "metadata": {
    "colab": {
      "provenance": [],
      "collapsed_sections": []
    },
    "kernelspec": {
      "name": "python3",
      "display_name": "Python 3"
    },
    "language_info": {
      "name": "python"
    }
  },
  "cells": [
    {
      "cell_type": "markdown",
      "source": [
        "**Question-1:** Create a function to check whether numpy array has Zero values or not."
      ],
      "metadata": {
        "id": "gSJ-HjUl7Wfv"
      }
    },
    {
      "cell_type": "code",
      "execution_count": 9,
      "metadata": {
        "colab": {
          "base_uri": "https://localhost:8080/"
        },
        "id": "AdymBZ5g7PTo",
        "outputId": "e3edddf1-e1ce-4b25-ee2b-1c2e2a158358"
      },
      "outputs": [
        {
          "output_type": "stream",
          "name": "stdout",
          "text": [
            "True\n",
            "False\n"
          ]
        }
      ],
      "source": [
        "import numpy as nump\n",
        "\n",
        "new_array_1 = nump.array([2 , 5 , 8 , 9 , 12])\n",
        "new_array_2 = nump.array([2 , 5 , 8 , 9 , 12 , 50 , 0 , 13])\n",
        "\n",
        "# Here to check whether an numpy array contains the zero we will use numpy.all() method....\n",
        "\n",
        "print(nump.all(new_array_1))\n",
        "print(nump.all(new_array_2))"
      ]
    },
    {
      "cell_type": "markdown",
      "source": [
        "**Question-2:** Consider an array contains marks of students. Find the median and mean of students who got passing marks."
      ],
      "metadata": {
        "id": "wr1c2ocG7U-v"
      }
    },
    {
      "cell_type": "code",
      "source": [
        "import numpy as nump\n",
        "\n",
        "def mean_calculation(arr , length):\n",
        "  sum=0\n",
        "  for i in range(0 , length):\n",
        "    sum+= arr[i]\n",
        "    \n",
        "  mean = float (sum/length)\n",
        "  print(mean)\n",
        "\n",
        "def median_calculation(arr, length):\n",
        "  sorted(arr)\n",
        "  median = 0\n",
        "  if length % 2 != 0:\n",
        "    median = float(arr[int (length / 2)]) \n",
        "  else: \n",
        "    median = float(arr[int((length-1)/2)] + arr[int(length/2)]) /2\n",
        "    \n",
        "  print(median)\n",
        "\n",
        "\n",
        "# Creating an numpy array\n",
        "new_array = nump.array([1 , 2 , 3 , 4 , 5, 6])\n",
        "length = len(new_array)\n",
        "print(\"Mean = \", end = \" \")\n",
        "mean_calculation(new_array , length)\n",
        "print(\"Median = \", end = \" \")\n",
        "median_calculation(new_array, length)\n",
        "\n",
        "# Another method in order to find out the mean and median for numpy array which is\n",
        "# by using mean() and median() methods available under numpy....\n",
        "\n",
        "print(\"Mean and Median using numpy methods are......\")\n",
        "print (\"Mean =\", end = \" \")\n",
        "print(float(nump.mean(new_array)))\n",
        "\n",
        "print(\"Median =\", end = \" \")\n",
        "print(float(nump.median(new_array)))\n"
      ],
      "metadata": {
        "colab": {
          "base_uri": "https://localhost:8080/"
        },
        "id": "GcWQuFQADp9P",
        "outputId": "a146c23d-2b79-4d8e-997a-014e2686eb32"
      },
      "execution_count": 4,
      "outputs": [
        {
          "output_type": "stream",
          "name": "stdout",
          "text": [
            "Mean =  3.5\n",
            "Median =  3.5\n",
            "Mean and Median using numpy methods are......\n",
            "Mean = 3.5\n",
            "Median = 3.5\n"
          ]
        }
      ]
    },
    {
      "cell_type": "markdown",
      "source": [
        "**Question-3:** Consider an array containing date of birth of students (Use np.datetime64('2018-02-01')). Find the age of all students. If age is 18 label it First, if it is 19, label it Second, if it is 20, label it Third, if it is 21, label it Fourth."
      ],
      "metadata": {
        "id": "8QRYD-1OHUl1"
      }
    },
    {
      "cell_type": "code",
      "source": [
        "import numpy as nump\n",
        "\n",
        "# Creating students date of birth array....\n",
        "students_dob_array = nump.array([nump.datetime64('2004-02-01') , nump.datetime64('2003-03-01'), nump.datetime64('2004-02-01'), nump.datetime64('2002-02-01'), nump.datetime64('2001-03-01') ])\n",
        "print('Students DOB Arrays.....')\n",
        "print(students_dob_array)\n",
        "\n",
        "# Calculating years from students date of births array....\n",
        "students_years = students_dob_array.astype('datetime64[Y]').astype(int) + 1970\n",
        "\n",
        "# Calculating ages of all the students...\n",
        "current_year = 2022\n",
        "student_ages_array = []\n",
        "for student_year in students_years:\n",
        "  student_ages_array.append(current_year - student_year)\n",
        "\n",
        "# Printing age along with labelling.......\n",
        "\n",
        "for age in student_ages_array:\n",
        "  if age == 18:\n",
        "    print(\"First : \", age)\n",
        "  elif age == 19:\n",
        "    print(\"Second : \", age)\n",
        "  elif age == 20:\n",
        "    print(\"Third : \", age)\n",
        "  elif age == 21:\n",
        "    print(\"Fourth : \", age)  \n",
        "\n"
      ],
      "metadata": {
        "colab": {
          "base_uri": "https://localhost:8080/"
        },
        "id": "osfoL3UPHbRN",
        "outputId": "6e1153f1-9a9e-4e11-b4cf-6892401643d9"
      },
      "execution_count": 23,
      "outputs": [
        {
          "output_type": "stream",
          "name": "stdout",
          "text": [
            "Students DOB Arrays.....\n",
            "['2004-02-01' '2003-03-01' '2004-02-01' '2002-02-01' '2001-03-01']\n",
            "First :  18\n",
            "Second :  19\n",
            "First :  18\n",
            "Third :  20\n",
            "Fourth :  21\n"
          ]
        }
      ]
    },
    {
      "cell_type": "markdown",
      "source": [
        "**Question-4:** Create a function to sort 2d Array by a column."
      ],
      "metadata": {
        "id": "2mGhtATgIVx1"
      }
    },
    {
      "cell_type": "code",
      "source": [
        "import numpy as nump\n",
        "\n",
        "# Creating a 2d array..\n",
        "\n",
        "numpy_2d_array = nump.array([ [10 , 6 , 5 , 4] , [55 , 78 , 20 , 40] , [13 , 14 , 21 , 16] ])\n",
        "print(\"Numpy 2d Array.....\")\n",
        "print(numpy_2d_array)\n",
        "\n",
        "# Sorting a 2d array using an index value....\n",
        "\n",
        "column_index = 0\n",
        "column_sorted_array = numpy_2d_array[numpy_2d_array[:, column_index].argsort()]\n",
        "print(\"Sorted Array based on column index.....\")\n",
        "print(column_sorted_array)"
      ],
      "metadata": {
        "colab": {
          "base_uri": "https://localhost:8080/"
        },
        "id": "Hxkt1MqmIZ2x",
        "outputId": "2f7e050f-0c3e-412d-939f-e409bf9cd3aa"
      },
      "execution_count": 8,
      "outputs": [
        {
          "output_type": "stream",
          "name": "stdout",
          "text": [
            "Numpy 2d Array.....\n",
            "[[10  6  5  4]\n",
            " [55 78 20 40]\n",
            " [13 14 21 16]]\n",
            "Sorted Array based on column index.....\n",
            "[[10  6  5  4]\n",
            " [13 14 21 16]\n",
            " [55 78 20 40]]\n"
          ]
        }
      ]
    }
  ]
}